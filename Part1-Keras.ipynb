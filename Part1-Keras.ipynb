{
 "cells": [
  {
   "cell_type": "markdown",
   "metadata": {},
   "source": [
    "## Implementing a multi-layer perceptron"
   ]
  },
  {
   "cell_type": "code",
   "execution_count": 5,
   "metadata": {},
   "outputs": [],
   "source": [
    "# !pip install tensorflow\n",
    "import numpy as np\n",
    "from tensorflow import keras\n",
    "from tensorflow.keras import layers"
   ]
  },
  {
   "cell_type": "code",
   "execution_count": 6,
   "metadata": {},
   "outputs": [
    {
     "name": "stdout",
     "output_type": "stream",
     "text": [
      "x_train shape: (60000, 28, 28, 1)\n",
      "60000 train samples\n",
      "10000 test samples\n"
     ]
    }
   ],
   "source": [
    "# Model / data parameters\n",
    "num_classes = 10\n",
    "input_shape = (28, 28, 1)\n",
    "\n",
    "# Load the data and split it between train and test sets\n",
    "(x_train, y_train), (x_test, y_test) = keras.datasets.mnist.load_data()\n",
    "\n",
    "# Scale images to the [0, 1] range\n",
    "x_train = x_train.astype(\"float32\") / 255\n",
    "x_test = x_test.astype(\"float32\") / 255\n",
    "# Make sure images have shape (28, 28, 1)\n",
    "x_train = np.expand_dims(x_train, -1)\n",
    "x_test = np.expand_dims(x_test, -1)\n",
    "print(\"x_train shape:\", x_train.shape)\n",
    "print(x_train.shape[0], \"train samples\")\n",
    "print(x_test.shape[0], \"test samples\")\n",
    "\n",
    "\n",
    "# convert class vectors to binary class matrices\n",
    "y_train = keras.utils.to_categorical(y_train, num_classes)\n",
    "y_test = keras.utils.to_categorical(y_test, num_classes)"
   ]
  },
  {
   "cell_type": "code",
   "execution_count": 7,
   "metadata": {},
   "outputs": [],
   "source": [
    "model = keras.Sequential(\n",
    "    [\n",
    "        keras.Input(shape=input_shape),\n",
    "        layers.Flatten(),\n",
    "        layers.Dense(500),\n",
    "        layers.Dense(500),\n",
    "        layers.Flatten(),\n",
    "        layers.Dense(num_classes,activation=\"softmax\")\n",
    "    ]\n",
    ")\n",
    "\n",
    "# model.summary()"
   ]
  },
  {
   "cell_type": "code",
   "execution_count": 8,
   "metadata": {},
   "outputs": [
    {
     "name": "stdout",
     "output_type": "stream",
     "text": [
      "Epoch 1/50\n",
      "422/422 [==============================] - 9s 19ms/step - loss: 0.3941 - accuracy: 0.8870 - val_loss: 0.2721 - val_accuracy: 0.9258\n",
      "Epoch 2/50\n",
      "422/422 [==============================] - 9s 22ms/step - loss: 0.3324 - accuracy: 0.9049 - val_loss: 0.2622 - val_accuracy: 0.9262\n",
      "Epoch 3/50\n",
      "422/422 [==============================] - 10s 24ms/step - loss: 0.3171 - accuracy: 0.9099 - val_loss: 0.2718 - val_accuracy: 0.9220\n",
      "Epoch 4/50\n",
      "422/422 [==============================] - 9s 21ms/step - loss: 0.3048 - accuracy: 0.9132 - val_loss: 0.2626 - val_accuracy: 0.9265\n",
      "Epoch 5/50\n",
      "422/422 [==============================] - 10s 23ms/step - loss: 0.2982 - accuracy: 0.9148 - val_loss: 0.2540 - val_accuracy: 0.9347\n",
      "Epoch 6/50\n",
      "422/422 [==============================] - 8s 18ms/step - loss: 0.2966 - accuracy: 0.9166 - val_loss: 0.2534 - val_accuracy: 0.9298\n",
      "Epoch 7/50\n",
      "422/422 [==============================] - 8s 18ms/step - loss: 0.2882 - accuracy: 0.9191 - val_loss: 0.2741 - val_accuracy: 0.9248\n",
      "Epoch 8/50\n",
      "422/422 [==============================] - 7s 18ms/step - loss: 0.2890 - accuracy: 0.9175 - val_loss: 0.2650 - val_accuracy: 0.9235\n",
      "Epoch 9/50\n",
      "422/422 [==============================] - 7s 17ms/step - loss: 0.2866 - accuracy: 0.9192 - val_loss: 0.2637 - val_accuracy: 0.9277\n",
      "Epoch 10/50\n",
      "422/422 [==============================] - 7s 17ms/step - loss: 0.2821 - accuracy: 0.9203 - val_loss: 0.2555 - val_accuracy: 0.9312\n",
      "Epoch 11/50\n",
      "422/422 [==============================] - 7s 16ms/step - loss: 0.2803 - accuracy: 0.9199 - val_loss: 0.2527 - val_accuracy: 0.9288\n",
      "Epoch 12/50\n",
      "422/422 [==============================] - 7s 17ms/step - loss: 0.2803 - accuracy: 0.9205 - val_loss: 0.2493 - val_accuracy: 0.9322\n",
      "Epoch 13/50\n",
      "422/422 [==============================] - 8s 20ms/step - loss: 0.2744 - accuracy: 0.9229 - val_loss: 0.2610 - val_accuracy: 0.9293\n",
      "Epoch 14/50\n",
      "422/422 [==============================] - 8s 20ms/step - loss: 0.2747 - accuracy: 0.9231 - val_loss: 0.2587 - val_accuracy: 0.9265\n",
      "Epoch 15/50\n",
      "422/422 [==============================] - 8s 19ms/step - loss: 0.2717 - accuracy: 0.9238 - val_loss: 0.2627 - val_accuracy: 0.9258\n",
      "Epoch 16/50\n",
      "422/422 [==============================] - 8s 20ms/step - loss: 0.2700 - accuracy: 0.9238 - val_loss: 0.2449 - val_accuracy: 0.9348\n",
      "Epoch 17/50\n",
      "422/422 [==============================] - 8s 19ms/step - loss: 0.2683 - accuracy: 0.9238 - val_loss: 0.2472 - val_accuracy: 0.9308\n",
      "Epoch 18/50\n",
      "422/422 [==============================] - 8s 19ms/step - loss: 0.2658 - accuracy: 0.9252 - val_loss: 0.2446 - val_accuracy: 0.9347\n",
      "Epoch 19/50\n",
      "422/422 [==============================] - 8s 19ms/step - loss: 0.2663 - accuracy: 0.9242 - val_loss: 0.2513 - val_accuracy: 0.9293\n",
      "Epoch 20/50\n",
      "422/422 [==============================] - 8s 20ms/step - loss: 0.2636 - accuracy: 0.9253 - val_loss: 0.2408 - val_accuracy: 0.9345\n",
      "Epoch 21/50\n",
      "422/422 [==============================] - 8s 19ms/step - loss: 0.2635 - accuracy: 0.9248 - val_loss: 0.2542 - val_accuracy: 0.9308\n",
      "Epoch 22/50\n",
      "422/422 [==============================] - 9s 20ms/step - loss: 0.2628 - accuracy: 0.9255 - val_loss: 0.2511 - val_accuracy: 0.9308\n",
      "Epoch 23/50\n",
      "422/422 [==============================] - 8s 20ms/step - loss: 0.2634 - accuracy: 0.9255 - val_loss: 0.2526 - val_accuracy: 0.9268\n",
      "Epoch 24/50\n",
      "422/422 [==============================] - 8s 20ms/step - loss: 0.2606 - accuracy: 0.9257 - val_loss: 0.2609 - val_accuracy: 0.9298\n",
      "Epoch 25/50\n",
      "422/422 [==============================] - 9s 21ms/step - loss: 0.2587 - accuracy: 0.9259 - val_loss: 0.2555 - val_accuracy: 0.9305\n",
      "Epoch 26/50\n",
      "422/422 [==============================] - 9s 21ms/step - loss: 0.2580 - accuracy: 0.9277 - val_loss: 0.2476 - val_accuracy: 0.9323\n",
      "Epoch 27/50\n",
      "422/422 [==============================] - 10s 23ms/step - loss: 0.2583 - accuracy: 0.9267 - val_loss: 0.2480 - val_accuracy: 0.9312\n",
      "Epoch 28/50\n",
      "422/422 [==============================] - 10s 25ms/step - loss: 0.2591 - accuracy: 0.9259 - val_loss: 0.2568 - val_accuracy: 0.9298\n",
      "Epoch 29/50\n",
      "422/422 [==============================] - 9s 21ms/step - loss: 0.2585 - accuracy: 0.9271 - val_loss: 0.2548 - val_accuracy: 0.9295\n",
      "Epoch 30/50\n",
      "422/422 [==============================] - 9s 20ms/step - loss: 0.2559 - accuracy: 0.9259 - val_loss: 0.2570 - val_accuracy: 0.9322\n",
      "Epoch 31/50\n",
      "422/422 [==============================] - 9s 21ms/step - loss: 0.2566 - accuracy: 0.9271 - val_loss: 0.2430 - val_accuracy: 0.9348\n",
      "Epoch 32/50\n",
      "422/422 [==============================] - 8s 19ms/step - loss: 0.2552 - accuracy: 0.9274 - val_loss: 0.2613 - val_accuracy: 0.9282\n",
      "Epoch 33/50\n",
      "422/422 [==============================] - 7s 17ms/step - loss: 0.2554 - accuracy: 0.9284 - val_loss: 0.2441 - val_accuracy: 0.9355\n",
      "Epoch 34/50\n",
      "422/422 [==============================] - 7s 17ms/step - loss: 0.2532 - accuracy: 0.9277 - val_loss: 0.2551 - val_accuracy: 0.9325\n",
      "Epoch 35/50\n",
      "422/422 [==============================] - 9s 21ms/step - loss: 0.2516 - accuracy: 0.9287 - val_loss: 0.2432 - val_accuracy: 0.9353\n",
      "Epoch 36/50\n",
      "422/422 [==============================] - 7s 17ms/step - loss: 0.2531 - accuracy: 0.9290 - val_loss: 0.2513 - val_accuracy: 0.9317\n",
      "Epoch 37/50\n",
      "422/422 [==============================] - 7s 17ms/step - loss: 0.2519 - accuracy: 0.9284 - val_loss: 0.2477 - val_accuracy: 0.9342\n",
      "Epoch 38/50\n",
      "422/422 [==============================] - 7s 17ms/step - loss: 0.2515 - accuracy: 0.9290 - val_loss: 0.2509 - val_accuracy: 0.9342\n",
      "Epoch 39/50\n",
      "422/422 [==============================] - 8s 18ms/step - loss: 0.2510 - accuracy: 0.9284 - val_loss: 0.2495 - val_accuracy: 0.9327\n",
      "Epoch 40/50\n",
      "422/422 [==============================] - 7s 17ms/step - loss: 0.2507 - accuracy: 0.9285 - val_loss: 0.2483 - val_accuracy: 0.9325\n",
      "Epoch 41/50\n",
      "422/422 [==============================] - 7s 17ms/step - loss: 0.2506 - accuracy: 0.9290 - val_loss: 0.2545 - val_accuracy: 0.9322\n",
      "Epoch 42/50\n",
      "422/422 [==============================] - 8s 18ms/step - loss: 0.2511 - accuracy: 0.9286 - val_loss: 0.2633 - val_accuracy: 0.9288\n",
      "Epoch 43/50\n",
      "422/422 [==============================] - 8s 18ms/step - loss: 0.2508 - accuracy: 0.9284 - val_loss: 0.2732 - val_accuracy: 0.9258\n",
      "Epoch 44/50\n",
      "422/422 [==============================] - 8s 18ms/step - loss: 0.2491 - accuracy: 0.9302 - val_loss: 0.2494 - val_accuracy: 0.9328\n",
      "Epoch 45/50\n",
      "422/422 [==============================] - 7s 16ms/step - loss: 0.2493 - accuracy: 0.9300 - val_loss: 0.2480 - val_accuracy: 0.9332\n",
      "Epoch 46/50\n",
      "422/422 [==============================] - 7s 16ms/step - loss: 0.2482 - accuracy: 0.9295 - val_loss: 0.2560 - val_accuracy: 0.9333\n",
      "Epoch 47/50\n",
      "422/422 [==============================] - 7s 16ms/step - loss: 0.2490 - accuracy: 0.9290 - val_loss: 0.2493 - val_accuracy: 0.9303\n",
      "Epoch 48/50\n",
      "422/422 [==============================] - 7s 16ms/step - loss: 0.2480 - accuracy: 0.9293 - val_loss: 0.2520 - val_accuracy: 0.9337\n",
      "Epoch 49/50\n",
      "422/422 [==============================] - 6s 15ms/step - loss: 0.2474 - accuracy: 0.9292 - val_loss: 0.2597 - val_accuracy: 0.9305\n",
      "Epoch 50/50\n",
      "422/422 [==============================] - 6s 14ms/step - loss: 0.2471 - accuracy: 0.9295 - val_loss: 0.2506 - val_accuracy: 0.9328\n"
     ]
    },
    {
     "data": {
      "text/plain": [
       "<keras.callbacks.History at 0x29980266fa0>"
      ]
     },
     "execution_count": 8,
     "metadata": {},
     "output_type": "execute_result"
    }
   ],
   "source": [
    "batch_size = 128\n",
    "epochs = 50\n",
    "\n",
    "model.compile(loss=\"categorical_crossentropy\", optimizer=\"adam\", metrics=[\"accuracy\"])\n",
    "\n",
    "model.fit(x_train, y_train, batch_size=batch_size, epochs=epochs, validation_split=0.1)"
   ]
  },
  {
   "cell_type": "code",
   "execution_count": 9,
   "metadata": {},
   "outputs": [
    {
     "name": "stdout",
     "output_type": "stream",
     "text": [
      "Test loss: 0.2961735427379608\n",
      "Test accuracy: 0.9199000000953674\n"
     ]
    }
   ],
   "source": [
    "# Check Accuracy on test set\n",
    "score = model.evaluate(x_test, y_test, verbose=0)\n",
    "print(\"Test loss:\", score[0])\n",
    "print(\"Test accuracy:\", score[1])"
   ]
  }
 ],
 "metadata": {
  "anaconda-cloud": {},
  "kernelspec": {
   "display_name": "Python 3.9.7 ('base')",
   "language": "python",
   "name": "python3"
  },
  "language_info": {
   "codemirror_mode": {
    "name": "ipython",
    "version": 3
   },
   "file_extension": ".py",
   "mimetype": "text/x-python",
   "name": "python",
   "nbconvert_exporter": "python",
   "pygments_lexer": "ipython3",
   "version": "3.9.7"
  },
  "vscode": {
   "interpreter": {
    "hash": "91257b870c480b7dd5c19d08a02ed6ad036ba039e4ab87aa2676ecb44f07d1cc"
   }
  }
 },
 "nbformat": 4,
 "nbformat_minor": 4
}
